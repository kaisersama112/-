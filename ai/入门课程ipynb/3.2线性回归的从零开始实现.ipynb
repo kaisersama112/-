{
 "cells": [
  {
   "cell_type": "markdown",
   "id": "c773989d29b2fd20",
   "metadata": {},
   "source": [
    "## 3.2. 线性回归的从零开始实现¶\n",
    "### 3.2.1 生成数据集\n",
    "![image-Snipaste_2024-01-24_16-36-12.png](./assets/Snipaste_2024-01-24_16-36-12.png)\n"
   ]
  },
  {
   "cell_type": "code",
   "execution_count": 4,
   "id": "2e27dafcb2ad76fa",
   "metadata": {
    "ExecuteTime": {
     "end_time": "2024-01-24T08:57:15.359735300Z",
     "start_time": "2024-01-24T08:57:15.348734300Z"
    }
   },
   "outputs": [
    {
     "name": "stdout",
     "output_type": "stream",
     "text": [
      "\n",
      "[[ 0.590983    0.2707795 ]\n",
      " [ 0.7413724   0.2915591 ]\n",
      " [ 2.2544928  -1.9625562 ]\n",
      " [ 0.31813768  0.41370213]\n",
      " [ 2.0036721  -0.50719374]\n",
      " [ 1.3023337  -0.46279505]\n",
      " [-0.6202043  -1.1562326 ]\n",
      " [-0.14444932  2.0692244 ]\n",
      " [-0.9664803  -1.6631418 ]\n",
      " [ 1.7235638   0.37934572]]\n",
      "<NDArray 10x2 @cpu(0)>\n",
      "\n",
      "[ 4.466116   4.6982875 15.384071   3.455777   9.932828   8.392988\n",
      "  6.90768   -3.1222196  7.9330177  6.3534727]\n",
      "<NDArray 10 @cpu(0)>\n"
     ]
    }
   ],
   "source": [
    "\n",
    "from mxnet import autograd, nd\n",
    "import random\n",
    "\n",
    "num_inputs = 2\n",
    "num_examples = 1000\n",
    "true_w = [2, -3.4]\n",
    "true_b = 4.2\n",
    "\n",
    "features = nd.random.normal(scale=1, shape=(num_examples, num_inputs))\n",
    "labels = true_w[0] * features[:, 0] + true_w[1] * features[:, 1] + true_b\n",
    "labels += nd.random.normal(scale=0.01, shape=labels.shape)\n",
    "\n",
    "\n",
    "# 读取数据集函数\n",
    "def data_iter(batch_size, features, labels):\n",
    "    num_examples = len(features)\n",
    "    indices = list(range(num_examples))\n",
    "    random.shuffle(indices)\n",
    "    for i in range(0, num_examples, batch_size):\n",
    "        j = nd.array(indices[i:min(i + batch_size, num_examples)])\n",
    "        yield features.take(j), labels.take(j)\n",
    "\n",
    "\n",
    "batch_size = 10\n",
    "for X, y in data_iter(batch_size, features, labels):\n",
    "    print(X)\n",
    "    print(y)\n",
    "    break"
   ]
  },
  {
   "cell_type": "code",
   "execution_count": 5,
   "id": "6958e6d8857a6d0e",
   "metadata": {
    "ExecuteTime": {
     "end_time": "2024-01-24T08:59:01.312438100Z",
     "start_time": "2024-01-24T08:59:01.303845800Z"
    }
   },
   "outputs": [
    {
     "name": "stdout",
     "output_type": "stream",
     "text": [
      "\n",
      "[[-0.01546639]\n",
      " [-0.00479909]]\n",
      "<NDArray 2x1 @cpu(0)>\n",
      "\n",
      "[0.]\n",
      "<NDArray 1 @cpu(0)>\n"
     ]
    }
   ],
   "source": [
    "# 初始化模型参数\n",
    "# 我们将权重初始化成均值为0、标准差为0.01的正态随机数，偏差则初始化成0。\n",
    "\n",
    "w = nd.random.normal(scale=0.01, shape=(num_inputs, 1))\n",
    "b = nd.zeros(shape=(1,))\n",
    "\n",
    "print(w)\n",
    "print(b)\n",
    "\n",
    "\n",
    "# 模型函数\n",
    "def linreg(X, w, b):\n",
    "    return nd.dot(X, w) + b\n",
    "\n",
    "\n",
    "# 损失函数\n",
    "def squared_loss(y_hat, y):\n",
    "    return (y_hat - y.reshape(y_hat.shape)) ** 2 / 2\n",
    "\n",
    "\n",
    "# 优化函数\n",
    "def sgd(params, lr, batch_size):\n",
    "    for param in params:\n",
    "        param[:] = param - lr * param.grad / batch_size\n",
    "\n",
    "\n",
    "\n",
    "lr = 0.03\n",
    "num_epochs = 3\n",
    "net = linreg\n",
    "loss = squared_loss\n",
    "\n",
    "for epoch in range(num_epochs):  # 训练模型一共需要num_epochs个迭代周期\n",
    "    # 在每一个迭代周期中，会使用训练数据集中所有样本一次（假设样本数能够被批量大小整除）。X\n",
    "    # 和y分别是小批量样本的特征和标签\n",
    "    for X, y in data_iter(batch_size, features, labels):\n",
    "        with autograd.record():\n",
    "            l = loss(net(X, w, b), y)  # l是有关小批量X和y的损失\n",
    "        l.backward()  # 小批量的损失对模型参数求梯度\n",
    "        sgd([w, b], lr, batch_size)  # 使用小批量随机梯度下降迭代模型参数\n",
    "    train_l = loss(net(features, w, b), labels)\n",
    "    print('epoch %d, loss %f' % (epoch + 1, train_l.mean().asnumpy()))"
   ]
  },
  {
   "cell_type": "code",
   "execution_count": null,
   "id": "8f21b7033bcaaab8",
   "metadata": {},
   "outputs": [],
   "source": []
  }
 ],
 "metadata": {
  "kernelspec": {
   "display_name": "Python 3 (ipykernel)",
   "language": "python",
   "name": "python3"
  },
  "language_info": {
   "codemirror_mode": {
    "name": "ipython",
    "version": 3
   },
   "file_extension": ".py",
   "mimetype": "text/x-python",
   "name": "python",
   "nbconvert_exporter": "python",
   "pygments_lexer": "ipython3",
   "version": "3.9.18"
  }
 },
 "nbformat": 4,
 "nbformat_minor": 5
}
