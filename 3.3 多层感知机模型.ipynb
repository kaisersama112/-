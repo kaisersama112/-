{
 "cells": [
  {
   "cell_type": "markdown",
   "id": "a820406b65f13174",
   "metadata": {},
   "source": [
    "多层感知机在单层神经网络的基础上引入了一到多个隐藏层（hidden layer）。隐藏层位于输入层和输出层之间。图3.3展示了一个多层感知机的神经网络图。\n",
    "![image_Snipaste_2024-01-29_14-54-28.png](./assets/Snipaste_2024-01-29_14-54-28.png)\n",
    "![image_Snipaste_2024-01-29_14-54-53.png](./assets/Snipaste_2024-01-29_14-54-53.png)\n",
    "## 激活函数\n",
    "上述问题的根源在于全连接层只是对数据做仿射变换（affine transformation），而多个仿射变换的叠加仍然是一个仿射变换。解决问题的一个方法是引入非线性变换，例如对隐藏变量使用按元素运算的非线性函数进行变换，然后再作为下一个全连接层的输入。这个非线性函数被称为激活函数（activation function）。下面我们介绍几个常用的激活函数。\n",
    "###  ReLU函数\n",
    "ReLU（rectified linear unit）函数提供了一个很简单的非线性变换。给定元素 x\n",
    " ，该函数定义为\n",
    " ![image_Snipaste_2024-01-29_14-55-30.png](./assets/Snipaste_2024-01-29_14-55-30.png)\n",
    " 可以看出，ReLU函数只保留正数元素，并将负数元素清零。为了直观地观察这一非线性变换，我们先定义一个绘图函数xyplot。\n",
    " \n",
    "显然，当输入为负数时，ReLU函数的导数为0；当输入为正数时，ReLU函数的导数为1。尽管输入为0时ReLU函数不可导，但是我们可以取此处的导数为0。下面绘制ReLU函数的导数。\n",
    "\n",
    "### sigmoid函数\n",
    "sigmoid函数可以将元素的值变换到0和1之间：\n",
    "![image_Snipaste_2024-01-29_14-57-09.png](./assets/Snipaste_2024-01-29_14-57-09.png)\n",
    "sigmoid函数在早期的神经网络中较为普遍，但它目前逐渐被更简单的ReLU函数取代。在后面“循环神经网络”一章中我们会介绍如何利用它值域在0到1之间这一特性来控制信息在神经网络中的流动。下面绘制了sigmoid函数。当输入接近0时，sigmoid函数接近线性变换。\n",
    "依据链式法则，sigmoid函数的导数为\n",
    "![image_Snipaste_2024-01-29_14-58-10.png](./assets/Snipaste_2024-01-29_14-58-10.png)\n",
    "\n",
    "下面绘制了sigmoid函数的导数。当输入为0时，sigmoid函数的导数达到最大值0.25；当输入越偏离0时，sigmoid函数的导数越接近0。\n",
    "\n",
    "### tanh函数\n",
    "tanh（双曲正切）函数可以将元素的值变换到-1和1之间：\n",
    "![image_Snipaste_2024-01-29_14-59-11.png](./assets/Snipaste_2024-01-29_14-59-11.png)\n",
    "我们接着绘制tanh函数。当输入接近0时，tanh函数接近线性变换。虽然该函数的形状和sigmoid函数的形状很像，但tanh函数在坐标系的原点上对称。\n",
    "\n",
    "依据链式法则，tanh函数的导数为\n",
    "![imge_Snipaste_2024-01-29_14-59-56.png](./assets/Snipaste_2024-01-29_14-59-56.png)\n",
    "\n",
    "\n",
    "## 多层感知机\n",
    "\n",
    "多层感知机就是含有至少一个隐藏层的由全连接层组成的神经网络，且每个隐藏层的输出通过激活函数进行变换。多层感知机的层数和各隐藏层中隐藏单元个数都是超参数。以单隐藏层为例并沿用本节之前定义的符号，多层感知机按以下方式计算输出：\n",
    "![image_Snipaste_2024-01-29_15-00-56.png](./assets/Snipaste_2024-01-29_15-00-56.png)\n",
    "其中 ϕ表示激活函数。在分类问题中，我们可以对输出 O做softmax运算，并使用softmax回归中的交叉熵损失函数。 在回归问题中，我们将输出层的输出个数设为1，并将输O直接提供给线性回归中使用的平方损失函数。"
   ]
  },
  {
   "cell_type": "code",
   "execution_count": null,
   "id": "5a47b00243edcc77",
   "metadata": {},
   "outputs": [],
   "source": [
    "import d2l.mxnet as d2l\n",
    "from mxnet import autograd, nd\n",
    "\n",
    "\n",
    "# relu\n",
    "def xyplot(x_vals, y_vals, name):\n",
    "    d2l.set_figsize(figsize=(5, 2.5))\n",
    "    d2l.plt.plot(x_vals.asnumpy(), y_vals.asnumpy())\n",
    "    d2l.plt.xlabel('x')\n",
    "    d2l.plt.ylabel(name + '(x)')\n",
    "\n",
    "\n",
    "x = nd.arange(-8.0, 8.0, 0.1)\n",
    "x.attach_grad()\n",
    "with autograd.record():\n",
    "    y = x.relu()\n",
    "xyplot(x, y, 'relu')\n",
    "# relu 导数图像\n",
    "y.backward()\n",
    "xyplot(x, x.grad, 'grad of relu')\n",
    "\n",
    "# sigmoid \n",
    "with autograd.record():\n",
    "    y = x.sigmoid()\n",
    "xyplot(x, y, 'sigmoid')\n",
    "# sigmoid 导数图像\n",
    "y.backward()\n",
    "xyplot(x, x.grad, 'grad of sigmoid')\n",
    "\n",
    "# tanh \n",
    "with autograd.record():\n",
    "    y = x.tanh()\n",
    "xyplot(x, y, 'tanh')\n",
    "\n",
    "# tanh 导数图像\n",
    "y.backward()\n",
    "xyplot(x, x.grad, 'grad of tanh')"
   ]
  },
  {
   "cell_type": "code",
   "execution_count": null,
   "id": "73ed0f7ad67b48ff",
   "metadata": {},
   "outputs": [],
   "source": []
  },
  {
   "cell_type": "code",
   "execution_count": null,
   "id": "c808265c8a8a934d",
   "metadata": {},
   "outputs": [],
   "source": []
  },
  {
   "cell_type": "code",
   "execution_count": null,
   "id": "a7e3eb470a41e57f",
   "metadata": {},
   "outputs": [],
   "source": []
  },
  {
   "cell_type": "code",
   "execution_count": null,
   "id": "2960bc05b70e0a97",
   "metadata": {},
   "outputs": [],
   "source": []
  },
  {
   "cell_type": "code",
   "execution_count": null,
   "id": "73e608db694e372a",
   "metadata": {},
   "outputs": [],
   "source": []
  },
  {
   "cell_type": "code",
   "execution_count": null,
   "id": "3084429f3c1c7f27",
   "metadata": {},
   "outputs": [],
   "source": []
  },
  {
   "cell_type": "code",
   "execution_count": null,
   "id": "dfc33f4f63814c1a",
   "metadata": {},
   "outputs": [],
   "source": []
  },
  {
   "cell_type": "code",
   "execution_count": null,
   "id": "8087c8bfa9fe7b02",
   "metadata": {},
   "outputs": [],
   "source": []
  },
  {
   "cell_type": "code",
   "execution_count": null,
   "id": "c90a39ca09010c5c",
   "metadata": {},
   "outputs": [],
   "source": []
  }
 ],
 "metadata": {
  "kernelspec": {
   "display_name": "Python 3 (ipykernel)",
   "language": "python",
   "name": "python3"
  },
  "language_info": {
   "codemirror_mode": {
    "name": "ipython",
    "version": 3
   },
   "file_extension": ".py",
   "mimetype": "text/x-python",
   "name": "python",
   "nbconvert_exporter": "python",
   "pygments_lexer": "ipython3",
   "version": "3.9.18"
  }
 },
 "nbformat": 4,
 "nbformat_minor": 5
}
