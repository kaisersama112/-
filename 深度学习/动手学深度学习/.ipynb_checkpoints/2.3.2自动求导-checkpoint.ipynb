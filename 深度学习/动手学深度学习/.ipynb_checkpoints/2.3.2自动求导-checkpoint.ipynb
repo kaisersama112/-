{
 "cells": [
  {
   "cell_type": "markdown",
   "id": "854d1fa6-5988-4b11-bdec-394f32a278e3",
   "metadata": {},
   "source": [
    "![image-Snipaste_2024-01-14_10-22-44.png](./assets/Snipaste_2024-01-14_10-22-44.png)\n",
    "![image-Snipaste_2024-01-14_10-34-00.png](./assets/Snipaste_2024-01-14_10-34-00.png)\n",
    "![image-Snipaste_2024-01-14_10-34-29.png](./assets/Snipaste_2024-01-14_10-34-29.png)\n",
    "![image-Snipaste_2024-01-14_10-35-30.png](./aseets/Snipaste_2024-01-14_10-35-30.png)\n",
    "![image-Snipaste_2024-01-14_10-38-14.png](./assets/Snipaste_2024-01-14_10-38-14.png)\n",
    "![image-Snipaste_2024-01-14_10-38-51.png](./assets/Snipaste_2024-01-14_10-38-51.png)\n",
    "![image-Snipaste_2024-01-14_10-40-09.png](./assets/Snipaste_2024-01-14_10-40-09.png)"
   ]
  },
  {
   "cell_type": "markdown",
   "id": "e184134d-ec69-48db-b2f8-23c4fe4c6ee9",
   "metadata": {},
   "source": [
    "## 自动求导\n",
    "假设我们想对函数y=(2x^T)x 关于列向量x求导\n"
   ]
  },
  {
   "cell_type": "code",
   "execution_count": 20,
   "id": "8c68b216-011e-4e8e-86fc-1c03676dcdc1",
   "metadata": {},
   "outputs": [
    {
     "data": {
      "text/plain": [
       "tensor([0., 1., 2., 3.])"
      ]
     },
     "execution_count": 20,
     "metadata": {},
     "output_type": "execute_result"
    }
   ],
   "source": [
    "import torch\n",
    "x= torch.arange(4.0)\n",
    "x"
   ]
  },
  {
   "cell_type": "markdown",
   "id": "f14373e1-01b4-49f8-a215-02db602d3973",
   "metadata": {},
   "source": [
    "**在我们计算y关于x的梯度之前，我们需要一个地方来存储梯度**"
   ]
  },
  {
   "cell_type": "code",
   "execution_count": 21,
   "id": "e3f355a1-27ec-47ef-8e2f-c336e2e515b0",
   "metadata": {},
   "outputs": [],
   "source": [
    "x.requires_grad_(True) # 等价于x=torch.arange(4.0,requires_grad=True)\n",
    "x.grad"
   ]
  },
  {
   "cell_type": "markdown",
   "id": "0b204944-ffd6-4b9b-878c-7a790a346742",
   "metadata": {},
   "source": [
    "**现在让我们计算y**"
   ]
  },
  {
   "cell_type": "code",
   "execution_count": 22,
   "id": "3e56fca7-00b7-40bb-9870-1e2652d1ecee",
   "metadata": {},
   "outputs": [
    {
     "data": {
      "text/plain": [
       "tensor(28., grad_fn=<MulBackward0>)"
      ]
     },
     "execution_count": 22,
     "metadata": {},
     "output_type": "execute_result"
    }
   ],
   "source": [
    "y= 2*torch.dot(x,x)\n",
    "y"
   ]
  },
  {
   "cell_type": "markdown",
   "id": "6a8ce5c2-e3a6-48fb-a17e-5f64f17c1c2a",
   "metadata": {},
   "source": [
    "**通过调用反向传播函数来自动计算y关于x每个分量的梯度**\n"
   ]
  },
  {
   "cell_type": "code",
   "execution_count": 23,
   "id": "b9f520ba-da09-4b39-8e93-9c2199b3a6c8",
   "metadata": {},
   "outputs": [
    {
     "data": {
      "text/plain": [
       "tensor([ 0.,  4.,  8., 12.])"
      ]
     },
     "execution_count": 23,
     "metadata": {},
     "output_type": "execute_result"
    }
   ],
   "source": [
    "y.backward()\n",
    "x.grad"
   ]
  },
  {
   "cell_type": "code",
   "execution_count": 16,
   "id": "b0599eb3-1fec-4192-9a4b-d2c0c42fa38f",
   "metadata": {},
   "outputs": [
    {
     "data": {
      "text/plain": [
       "tensor([True, True, True, True])"
      ]
     },
     "execution_count": 16,
     "metadata": {},
     "output_type": "execute_result"
    }
   ],
   "source": [
    "x.grad==4*x"
   ]
  },
  {
   "cell_type": "markdown",
   "id": "339cba93-9d4c-41ba-a68f-14cb296ea079",
   "metadata": {},
   "source": [
    "**现在让我们计算x的另一个函数**\n",
    " "
   ]
  },
  {
   "cell_type": "code",
   "execution_count": 18,
   "id": "6d98586a-ea5b-402e-90db-6f2a91fe590e",
   "metadata": {},
   "outputs": [
    {
     "data": {
      "text/plain": [
       "tensor([1., 1., 1., 1.])"
      ]
     },
     "execution_count": 18,
     "metadata": {},
     "output_type": "execute_result"
    }
   ],
   "source": [
    "# 在默认情况下，pytorch会累积梯度，我们需要清楚之前的值\n",
    "x.grad.zero_()\n",
    "y=x.sum()\n",
    "y.backward()\n",
    "#向量x求和相当于向量x乘一个单位向量E，那么y对x求导后，就是y'=E\n",
    "x.grad"
   ]
  },
  {
   "cell_type": "markdown",
   "id": "cfe8ecee-2dd5-4d22-802b-752e344dfe69",
   "metadata": {},
   "source": [
    "深度学习中，我们的目的不是计算微分矩阵，而是批量中每个样本单独计算的偏导数之和\n"
   ]
  },
  {
   "cell_type": "code",
   "execution_count": 24,
   "id": "1b441e58-6c6f-4f48-a5e9-95f078e3337d",
   "metadata": {},
   "outputs": [
    {
     "data": {
      "text/plain": [
       "tensor([ 0.,  4.,  8., 12.])"
      ]
     },
     "execution_count": 24,
     "metadata": {},
     "output_type": "execute_result"
    }
   ],
   "source": [
    "# 对非标量调用`backward`需要传入一个`gradient`参数，该参数指定微分函数是为了把张量对\n",
    "#张量的求导转换为标量对张量的求导。\n",
    "\n",
    "x.grad.zero_()\n",
    "y=x*x\n",
    "# 等价于y.gradward(torch.ones(len(x)))\n",
    "y.sum().backward()\n",
    "x.grad"
   ]
  },
  {
   "cell_type": "markdown",
   "id": "27d1b6f9-07e4-4bdc-867e-62534712ebde",
   "metadata": {},
   "source": [
    "将某些计算移动到记录的计算图之外"
   ]
  },
  {
   "cell_type": "code",
   "execution_count": 39,
   "id": "857648a0-3ace-4c7c-bef9-ecbdcf27c81c",
   "metadata": {},
   "outputs": [
    {
     "data": {
      "text/plain": [
       "tensor([True, True, True, True])"
      ]
     },
     "execution_count": 39,
     "metadata": {},
     "output_type": "execute_result"
    }
   ],
   "source": [
    "x.grad.zero_()\n",
    "y=x*x\n",
    "\n",
    "u=y.detach()\n",
    "z= u*x\n",
    "z.sum().backward()\n",
    "# 这里可以理解为对x求偏导 所以需要将u看作为一个常数，.detach() 可以阻止梯度回传\n",
    "x.grad==u\n"
   ]
  },
  {
   "cell_type": "code",
   "execution_count": 40,
   "id": "bb4f471d-7c93-4557-b4a4-4cbd92a1a94b",
   "metadata": {},
   "outputs": [
    {
     "data": {
      "text/plain": [
       "tensor([0., 2., 4., 6.])"
      ]
     },
     "execution_count": 40,
     "metadata": {},
     "output_type": "execute_result"
    }
   ],
   "source": [
    "x.grad.zero_()\n",
    "y.sum().backward()\n",
    "x.grad==2*x\n",
    "x.grad"
   ]
  },
  {
   "cell_type": "markdown",
   "id": "59d4df29-e807-458e-8bfb-727c2ae898b9",
   "metadata": {},
   "source": [
    "即使构建函数的计算图需要通过python控制流（例如，条件，循环或任意函数调用），我们任然可以计算得到的变量的梯度\n"
   ]
  },
  {
   "cell_type": "code",
   "execution_count": 44,
   "id": "d4f34a34-87f5-4b75-aeec-7c412a0a257f",
   "metadata": {},
   "outputs": [
    {
     "name": "stdout",
     "output_type": "stream",
     "text": [
      "tensor(-0.7648, requires_grad=True)\n"
     ]
    },
    {
     "data": {
      "text/plain": [
       "tensor(204800.)"
      ]
     },
     "execution_count": 44,
     "metadata": {},
     "output_type": "execute_result"
    }
   ],
   "source": [
    "def f(a):\n",
    "    b=a*2\n",
    "    while b.norm()<1000:\n",
    "        b=b*2\n",
    "    if b.sum()>0:\n",
    "        c=b\n",
    "    else:\n",
    "        c= 100*b\n",
    "    return c\n",
    "a= torch.randn(size=(),requires_grad=True)\n",
    "print(a)\n",
    "d=f(a)\n",
    "d.backward()\n",
    "a.grad"
   ]
  },
  {
   "cell_type": "code",
   "execution_count": null,
   "id": "7ab52a11-abd4-4308-bb99-c61b83cb9111",
   "metadata": {},
   "outputs": [],
   "source": []
  },
  {
   "cell_type": "code",
   "execution_count": null,
   "id": "0dc35933-9daf-41ae-8f8d-6690839dc841",
   "metadata": {},
   "outputs": [],
   "source": []
  },
  {
   "cell_type": "code",
   "execution_count": null,
   "id": "653d7494-c8e1-4741-b082-8fbdf9a634bd",
   "metadata": {},
   "outputs": [],
   "source": []
  },
  {
   "cell_type": "code",
   "execution_count": null,
   "id": "3dd59193-41e8-4cea-b686-af8d41861c70",
   "metadata": {},
   "outputs": [],
   "source": []
  }
 ],
 "metadata": {
  "kernelspec": {
   "display_name": "Python 3 (ipykernel)",
   "language": "python",
   "name": "python3"
  },
  "language_info": {
   "codemirror_mode": {
    "name": "ipython",
    "version": 3
   },
   "file_extension": ".py",
   "mimetype": "text/x-python",
   "name": "python",
   "nbconvert_exporter": "python",
   "pygments_lexer": "ipython3",
   "version": "3.11.5"
  }
 },
 "nbformat": 4,
 "nbformat_minor": 5
}
