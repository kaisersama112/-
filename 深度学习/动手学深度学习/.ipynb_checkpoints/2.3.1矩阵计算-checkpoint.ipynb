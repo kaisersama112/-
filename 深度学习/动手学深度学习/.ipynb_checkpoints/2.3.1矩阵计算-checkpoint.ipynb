{
 "cells": [
  {
   "cell_type": "markdown",
   "id": "0e9647e5-799a-4a5e-8903-8cadb3d668d1",
   "metadata": {},
   "source": [
    "![image-Snipaste_2024-01-14_09-59-32.png](./assets/Snipaste_2024-01-14_09-59-32.png)\n",
    "![image-Snipaste_2024-01-14_10-04-20.png](./assets/Snipaste_2024-01-14_10-04-20.png)\n",
    "![image-Snipaste_2024-01-14_10-16-33.png](./assets/Snipaste_2024-01-14_10-16-33.png)"
   ]
  },
  {
   "cell_type": "code",
   "execution_count": 5,
   "id": "37b8f56c-c76c-4696-ae46-b299e6942243",
   "metadata": {
    "ExecuteTime": {
     "end_time": "2024-01-14T02:05:11.428011500Z",
     "start_time": "2024-01-14T02:05:11.412620700Z"
    }
   },
   "outputs": [
    {
     "name": "stderr",
     "output_type": "stream",
     "text": [
      "'[image-Snipaste_2024-01-14_10-04-20.png]' 不是内部或外部命令，也不是可运行的程序\n",
      "或批处理文件。\n"
     ]
    }
   ],
   "source": []
  },
  {
   "cell_type": "code",
   "execution_count": null,
   "id": "19517a8e532008f8",
   "metadata": {
    "collapsed": false,
    "jupyter": {
     "outputs_hidden": false
    }
   },
   "outputs": [],
   "source": []
  },
  {
   "cell_type": "code",
   "execution_count": null,
   "id": "ae9bc490-43fc-41d6-b11a-6444c6f8b63d",
   "metadata": {},
   "outputs": [],
   "source": []
  }
 ],
 "metadata": {
  "kernelspec": {
   "display_name": "Python 3 (ipykernel)",
   "language": "python",
   "name": "python3"
  },
  "language_info": {
   "codemirror_mode": {
    "name": "ipython",
    "version": 3
   },
   "file_extension": ".py",
   "mimetype": "text/x-python",
   "name": "python",
   "nbconvert_exporter": "python",
   "pygments_lexer": "ipython3",
   "version": "3.11.5"
  }
 },
 "nbformat": 4,
 "nbformat_minor": 5
}
