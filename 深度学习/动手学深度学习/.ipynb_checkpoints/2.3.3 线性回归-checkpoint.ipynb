{
 "cells": [
  {
   "cell_type": "markdown",
   "id": "9ea3fce7-c84e-4d51-a0e1-521b7e1bbe40",
   "metadata": {},
   "source": [
    "![image-Snipaste_2024-01-14_16-14-24.png](./assets/Snipaste_2024-01-14_16-14-24.png)\n",
    "![image-Snipaste_2024-01-14_16-15-47.png](./assets/Snipaste_2024-01-14_16-15-47.png)\n",
    "![image-Snipaste_2024-01-14_16-16-46.png](./assets/Snipaste_2024-01-14_16-16-46.png)\n",
    "![image-Snipaste_2024-01-14_16-18-59.png](./assets/Snipaste_2024-01-14_16-18-59.png)\n",
    "![image-Snipaste_2024-01-14_16-20-04.png](./assets/Snipaste_2024-01-14_16-20-04.png)\n",
    "![image-Snipaste_2024-01-14_16-21-21.png](./assets/Snipaste_2024-01-14_16-21-21.png)\n",
    "![image-Snipaste_2024-01-14_16-22-39.png](./assets/Snipaste_2024-01-14_16-22-39.png)\n",
    "![image-Snipaste_2024-01-14_16-24-03.png](./assets/Snipaste_2024-01-14_16-24-03.png)\n",
    "\n",
    "## 基础优化方法\n",
    "![image-Snipaste_2024-01-14_16-25-13.png](./assets/Snipaste_2024-01-14_16-25-13.png)\n",
    "![image-Snipaste_2024-01-14_16-29-27.png](./assets/Snipaste_2024-01-14_16-29-27.png)\n",
    "![image_Snipaste_2024-01-14_16-31-01.png](./assets/Snipaste_2024-01-14_16-31-01.png)\n",
    "![image-Snipaste_2024-01-14_16-32-53.png](./assets/Snipaste_2024-01-14_16-32-53.png)\n",
    "\n",
    "## 线性回归的从零开始实现\n",
    "我们将从零开始实现整个方法，包括数据流水线，模型，顺势函数和小批量随机梯度下降优化器\n"
   ]
  },
  {
   "cell_type": "code",
   "execution_count": 2,
   "id": "fbcda381-f6e3-41a8-859a-704af1b5fc57",
   "metadata": {},
   "outputs": [],
   "source": [
    "%matplotlib inline\n",
    "import random\n",
    "import torch\n",
    "from d2l import torch as d2l\n"
   ]
  },
  {
   "cell_type": "code",
   "execution_count": 4,
   "id": "9a81e054-d65c-4706-b5f4-e92af324d675",
   "metadata": {},
   "outputs": [
    {
     "name": "stdout",
     "output_type": "stream",
     "text": [
      "<module 'd2l.torch' from 'F:\\\\minconda\\\\Lib\\\\site-packages\\\\d2l\\\\torch.py'>\n"
     ]
    }
   ],
   "source": [
    "# 根据带有噪音的线性模型构建一个人造数据集，\n",
    "#我们使用线性模型参数w=[2,-3.4]^T b=4.2 和噪音项c 生成数据集及其标签\n",
    "\n",
    "def "
   ]
  },
  {
   "cell_type": "code",
   "execution_count": null,
   "id": "8ff4f57e-7585-453e-a49a-c4975e38c40f",
   "metadata": {},
   "outputs": [],
   "source": []
  },
  {
   "cell_type": "code",
   "execution_count": null,
   "id": "c8bf2b09-fa07-4a47-8481-aacd82c7ece7",
   "metadata": {},
   "outputs": [],
   "source": []
  },
  {
   "cell_type": "code",
   "execution_count": null,
   "id": "dbf93b11-5e2e-455f-bc17-b2171c5f4d52",
   "metadata": {},
   "outputs": [],
   "source": []
  },
  {
   "cell_type": "code",
   "execution_count": null,
   "id": "28cad90b-f0fa-4490-bcc1-f3ffe11c46a2",
   "metadata": {},
   "outputs": [],
   "source": []
  },
  {
   "cell_type": "code",
   "execution_count": null,
   "id": "a0b10c3e-384c-4240-9d0f-531b2f80fe3c",
   "metadata": {},
   "outputs": [],
   "source": []
  }
 ],
 "metadata": {
  "kernelspec": {
   "display_name": "Python 3 (ipykernel)",
   "language": "python",
   "name": "python3"
  },
  "language_info": {
   "codemirror_mode": {
    "name": "ipython",
    "version": 3
   },
   "file_extension": ".py",
   "mimetype": "text/x-python",
   "name": "python",
   "nbconvert_exporter": "python",
   "pygments_lexer": "ipython3",
   "version": "3.11.5"
  }
 },
 "nbformat": 4,
 "nbformat_minor": 5
}
